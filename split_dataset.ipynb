{
 "cells": [
  {
   "cell_type": "code",
   "execution_count": 1,
   "metadata": {},
   "outputs": [
    {
     "name": "stdout",
     "output_type": "stream",
     "text": [
      "Writing split_dataset.py\n"
     ]
    }
   ],
   "source": [
    "%%writefile split_dataset.py\n",
    "\n",
    "import pandas as pd\n",
    "\n",
    "# Load the dataset\n",
    "df = pd.read_csv('data/vali_modified.csv')\n",
    "\n",
    "# Assuming 'split' column exists and it indicates the data split (train, val, test)\n",
    "# Split the DataFrame based on the 'split' column\n",
    "def split_and_save(df, path='data'):\n",
    "    # Split the DataFrame into groups\n",
    "    groups = df.groupby('split')\n",
    "\n",
    "    # Save each group to a separate file\n",
    "    for split_name, group in groups:\n",
    "        filename = f'{path}/{split_name}_modified2.csv'\n",
    "        group.to_csv(filename, index=False)\n",
    "        print(f'Saved {split_name} split to {filename}')\n",
    "\n",
    "# Now calling the function will split the DataFrame and save the splits to separate files\n",
    "split_and_save(df)\n"
   ]
  },
  {
   "cell_type": "code",
   "execution_count": 1,
   "metadata": {},
   "outputs": [
    {
     "name": "stdout",
     "output_type": "stream",
     "text": [
      "File does not exist.\n"
     ]
    }
   ],
   "source": [
    "import os\n",
    "import cv2\n",
    "\n",
    "# Specify the path to the image\n",
    "image_path = 'img/Garden_Floral_Maxi_Cardigan/img_00000003.jpg'\n",
    "\n",
    "# Check if the file exists\n",
    "if os.path.exists(image_path):\n",
    "    print(\"File exists.\")\n",
    "    # Attempt to load the image\n",
    "    image = cv2.imread(image_path)\n",
    "    if image is not None:\n",
    "        print(\"Image loaded successfully.\")\n",
    "        # Optionally, display the image using OpenCV to confirm it's correct\n",
    "        cv2.imshow('Loaded Image', image)\n",
    "        cv2.waitKey(0)  # Press any key to continue\n",
    "        cv2.destroyAllWindows()\n",
    "    else:\n",
    "        print(\"Failed to load the image.\")\n",
    "else:\n",
    "    print(\"File does not exist.\")\n",
    "\n"
   ]
  },
  {
   "cell_type": "code",
   "execution_count": 1,
   "metadata": {},
   "outputs": [
    {
     "data": {
      "text/plain": [
       "{18: 'Tee',\n",
       " 6: 'Cardigan',\n",
       " 17: 'Tank',\n",
       " 16: 'Sweater',\n",
       " 3: 'Blouse',\n",
       " 11: 'Jacket',\n",
       " 13: 'Parka',\n",
       " 4: 'Bomber',\n",
       " 1: 'Anorak',\n",
       " 0: '002.png'}"
      ]
     },
     "execution_count": 1,
     "metadata": {},
     "output_type": "execute_result"
    }
   ],
   "source": [
    "'''\n",
    "This code is to check which clothing categories we have.\n",
    "'''\n",
    "import pandas as pd\n",
    "\n",
    "# Step 1: Read the CSV File\n",
    "df = pd.read_csv(\"data/vali_modified2.csv\")\n",
    "\n",
    "# Step 2: Extract Unique Categories\n",
    "unique_categories = df['category_old'].unique()\n",
    "\n",
    "# Step 3: (Optional) Map Categories to Labels\n",
    "# You can create a dictionary to map categories to numerical labels if needed\n",
    "category_to_label = {category: label for label, category in enumerate(unique_categories)}\n",
    "\n",
    "# Extract category names from the image paths\n",
    "category_names = {}\n",
    "for category_code, category_name in category_to_label.items():\n",
    "    # Extract the last word after \"_\" in the second segment between \"/\" in the image path as the category name\n",
    "    image_path = df[df['category_old'] == category_code]['image_path'].iloc[0]\n",
    "    second_segment = image_path.split('/')[1]\n",
    "    category_names[category_code] = second_segment.split('_')[-1]\n",
    "\n",
    "# Display the mapping of category numbers to category names\n",
    "category_names\n"
   ]
  },
  {
   "cell_type": "code",
   "execution_count": null,
   "metadata": {},
   "outputs": [],
   "source": []
  }
 ],
 "metadata": {
  "kernelspec": {
   "display_name": "Python 3 (ipykernel)",
   "language": "python",
   "name": "python3"
  },
  "language_info": {
   "codemirror_mode": {
    "name": "ipython",
    "version": 3
   },
   "file_extension": ".py",
   "mimetype": "text/x-python",
   "name": "python",
   "nbconvert_exporter": "python",
   "pygments_lexer": "ipython3",
   "version": "3.9.12"
  }
 },
 "nbformat": 4,
 "nbformat_minor": 2
}
